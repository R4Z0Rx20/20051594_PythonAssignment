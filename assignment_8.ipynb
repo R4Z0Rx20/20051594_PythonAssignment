{
 "cells": [
  {
   "cell_type": "markdown",
   "id": "bc2d4e2a",
   "metadata": {},
   "source": [
    "# Answer 1"
   ]
  },
  {
   "cell_type": "markdown",
   "id": "50fa37af",
   "metadata": {},
   "source": [
    "The two types of Boolean data type are: True and False. Which are written in title format with first letter capatalized and rest lower case."
   ]
  },
  {
   "cell_type": "markdown",
   "id": "da8ab8ff",
   "metadata": {},
   "source": [
    "# Answer 2"
   ]
  },
  {
   "cell_type": "markdown",
   "id": "5e8d00c6",
   "metadata": {},
   "source": [
    "The three boolean operators are: AND, OR and NOT."
   ]
  },
  {
   "cell_type": "markdown",
   "id": "a24651c3",
   "metadata": {},
   "source": [
    "# Answer 3"
   ]
  },
  {
   "cell_type": "markdown",
   "id": "e0398fc0",
   "metadata": {},
   "source": [
    "AND:                             OR:                               NOT:\n",
    "\n",
    "x     y       result             x     y       result              x      result\n",
    "True  True    True               True  True    True                True   False\n",
    "True  False   False              True  False   True                False  True\n",
    "False True   False               False True    True\n",
    "False False  False               False False   False"
   ]
  },
  {
   "cell_type": "markdown",
   "id": "23ae0aed",
   "metadata": {},
   "source": [
    "# Answer 4"
   ]
  },
  {
   "cell_type": "markdown",
   "id": "983be2b2",
   "metadata": {},
   "source": [
    "(5 > 4) and (3 == 5) -> False <br>\n",
    "not (5 > 4) -> False<br>\n",
    "(5 > 4) or (3 == 5) -> True<br>\n",
    "not ((5 > 4) or (3 == 5)) -> False<br>\n",
    "(True and True) and (True == False) -> False<br>\n",
    "(not False) or (not True) -> True<br>"
   ]
  },
  {
   "cell_type": "markdown",
   "id": "d6017199",
   "metadata": {},
   "source": [
    "# Answer 5"
   ]
  },
  {
   "cell_type": "markdown",
   "id": "4244413f",
   "metadata": {},
   "source": [
    "== , !=, >, <, >=, <="
   ]
  },
  {
   "cell_type": "markdown",
   "id": "9cf0d6a4",
   "metadata": {},
   "source": [
    "# Answer 6"
   ]
  },
  {
   "cell_type": "markdown",
   "id": "31be66fa",
   "metadata": {},
   "source": [
    "== is equal to operator used that compares two values and checks whether they are equal or not\n",
    "while = is the assignment operator used to store values in variables."
   ]
  },
  {
   "cell_type": "markdown",
   "id": "5e54b744",
   "metadata": {},
   "source": [
    "# Answer 7"
   ]
  },
  {
   "cell_type": "markdown",
   "id": "260d7153",
   "metadata": {},
   "source": [
    "a condition is a expression which is used to evaluate a boolean value and determine the flow of control of the program"
   ]
  },
  {
   "cell_type": "code",
   "execution_count": null,
   "id": "e2eaf9f7",
   "metadata": {},
   "outputs": [],
   "source": []
  }
 ],
 "metadata": {
  "kernelspec": {
   "display_name": "Python 3 (ipykernel)",
   "language": "python",
   "name": "python3"
  },
  "language_info": {
   "codemirror_mode": {
    "name": "ipython",
    "version": 3
   },
   "file_extension": ".py",
   "mimetype": "text/x-python",
   "name": "python",
   "nbconvert_exporter": "python",
   "pygments_lexer": "ipython3",
   "version": "3.9.13"
  }
 },
 "nbformat": 4,
 "nbformat_minor": 5
}
