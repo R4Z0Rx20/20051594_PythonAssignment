{
 "cells": [
  {
   "cell_type": "markdown",
   "id": "b763ecf3",
   "metadata": {},
   "source": [
    "Q2) List Some Mega Projects hosted in Python.\n",
    "\n",
    "Ans:   \n",
    "\n",
    " Database Projets: Management Systems( Library, Hotel, Hospital, School)<br>\n",
    "ML Projects : Classification<br>\n",
    "AI Projects : Chatbots, face detection and recognition, speech recognition, Security<br>\n",
    "Data Science Projects : Global Terrorism Analysis, Call Data record Analysis"
   ]
  },
  {
   "cell_type": "markdown",
   "id": "2df1c120",
   "metadata": {},
   "source": [
    "Q3) List Python Libraries used in different IT Domains.\n",
    "\n",
    "Ans:  Pandas, numpy, matplotlib, tkinter, sklearn, tensorflow."
   ]
  },
  {
   "cell_type": "code",
   "execution_count": 2,
   "id": "e8da0dd3",
   "metadata": {},
   "outputs": [
    {
     "name": "stdout",
     "output_type": "stream",
     "text": [
      "Hello World!\n",
      "sum is : 50\n"
     ]
    }
   ],
   "source": [
    "#Q4\n",
    "\n",
    "print(\"Hello World!\")\n",
    "a = 30\n",
    "b = 20\n",
    "print(f'sum is : {a+b}')"
   ]
  },
  {
   "cell_type": "code",
   "execution_count": null,
   "id": "6dc16db6",
   "metadata": {},
   "outputs": [],
   "source": []
  }
 ],
 "metadata": {
  "kernelspec": {
   "display_name": "Python 3 (ipykernel)",
   "language": "python",
   "name": "python3"
  },
  "language_info": {
   "codemirror_mode": {
    "name": "ipython",
    "version": 3
   },
   "file_extension": ".py",
   "mimetype": "text/x-python",
   "name": "python",
   "nbconvert_exporter": "python",
   "pygments_lexer": "ipython3",
   "version": "3.9.13"
  }
 },
 "nbformat": 4,
 "nbformat_minor": 5
}
