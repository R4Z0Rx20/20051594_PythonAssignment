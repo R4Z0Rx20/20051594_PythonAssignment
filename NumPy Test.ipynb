{
 "cells": [
  {
   "cell_type": "markdown",
   "id": "96de29d4",
   "metadata": {},
   "source": [
    "1. Numpy stands for Numerical Python"
   ]
  },
  {
   "cell_type": "markdown",
   "id": "5207cf53",
   "metadata": {},
   "source": [
    "2. correct syntax to create a numpy array : np.array([1,2,3,4,5])"
   ]
  },
  {
   "cell_type": "markdown",
   "id": "fde36db0",
   "metadata": {},
   "source": [
    "3. correct 2-d array : [[1,2,3], [4,5,6]]"
   ]
  },
  {
   "cell_type": "markdown",
   "id": "3d9c7b2f",
   "metadata": {},
   "source": [
    "4. check dimensions : arr.ndim"
   ]
  },
  {
   "cell_type": "markdown",
   "id": "85dfecfb",
   "metadata": {},
   "source": [
    "5. first element of a numpy array : print(myArr[0])"
   ]
  },
  {
   "cell_type": "markdown",
   "id": "c2df01e1",
   "metadata": {},
   "source": [
    "6. print 8 from given array : print(arr[1,2])"
   ]
  },
  {
   "cell_type": "markdown",
   "id": "dd614cd2",
   "metadata": {},
   "source": [
    "7. print(arr[2:5])"
   ]
  },
  {
   "cell_type": "markdown",
   "id": "12d62708",
   "metadata": {},
   "source": [
    "8. print(arr[4:])"
   ]
  },
  {
   "cell_type": "markdown",
   "id": "3e95f81c",
   "metadata": {},
   "source": [
    "9. print(arr[::2])"
   ]
  },
  {
   "cell_type": "markdown",
   "id": "075acbd9",
   "metadata": {},
   "source": [
    "10. arr.dtype"
   ]
  },
  {
   "cell_type": "markdown",
   "id": "f833801a",
   "metadata": {},
   "source": [
    "11. arr = np.array([1, 2, 3, 4], dtype=np.float)"
   ]
  },
  {
   "cell_type": "markdown",
   "id": "dfe23d66",
   "metadata": {},
   "source": [
    "12. The view SHOULD BE Affected by the changes made to the original array."
   ]
  },
  {
   "cell_type": "markdown",
   "id": "628fbc45",
   "metadata": {},
   "source": [
    "13. The copy SHOULD NOT be affected by the changes made to the original array."
   ]
  },
  {
   "cell_type": "markdown",
   "id": "4e1066b9",
   "metadata": {},
   "source": [
    "14. The shape is the number of elements in each dimensions."
   ]
  },
  {
   "cell_type": "markdown",
   "id": "68acb502",
   "metadata": {},
   "source": [
    "15. arr.shape"
   ]
  },
  {
   "cell_type": "markdown",
   "id": "f5562366",
   "metadata": {},
   "source": [
    "16. concatenate()"
   ]
  },
  {
   "cell_type": "markdown",
   "id": "40a19add",
   "metadata": {},
   "source": [
    "17. array_split()"
   ]
  },
  {
   "cell_type": "markdown",
   "id": "8c42335a",
   "metadata": {},
   "source": [
    "18. where()"
   ]
  },
  {
   "cell_type": "markdown",
   "id": "96d0b584",
   "metadata": {},
   "source": [
    "19. np.where(arr==4) , sort()"
   ]
  },
  {
   "cell_type": "markdown",
   "id": "6b22370d",
   "metadata": {},
   "source": [
    "20. np.random.randint(100)"
   ]
  },
  {
   "cell_type": "markdown",
   "id": "0c11759e",
   "metadata": {},
   "source": [
    "21. random.normal(size=1000, loc=50, scale=0.2)"
   ]
  },
  {
   "cell_type": "markdown",
   "id": "7be114b5",
   "metadata": {},
   "source": [
    "22. np.add(arr1, arr2)"
   ]
  },
  {
   "cell_type": "markdown",
   "id": "440f3a94",
   "metadata": {},
   "source": [
    "23. np.subtract(arr1, arr2)"
   ]
  },
  {
   "cell_type": "markdown",
   "id": "9d43c6f3",
   "metadata": {},
   "source": [
    "24. all the other 3 are rounding methods in numpy - fix(), trunc(), around()"
   ]
  },
  {
   "cell_type": "markdown",
   "id": "17cc3258",
   "metadata": {},
   "source": [
    "25. [1 3 6]"
   ]
  },
  {
   "cell_type": "markdown",
   "id": "f92f9401",
   "metadata": {},
   "source": [
    "26. all of the above - empty(), zeros(), array()"
   ]
  },
  {
   "cell_type": "markdown",
   "id": "0a93c2db",
   "metadata": {},
   "source": [
    "27. array([2, 3, 4, 5, 6, 7])"
   ]
  },
  {
   "cell_type": "markdown",
   "id": "c22d85e1",
   "metadata": {},
   "source": [
    "28. 2"
   ]
  },
  {
   "cell_type": "markdown",
   "id": "456eb607",
   "metadata": {},
   "source": [
    "29. It returns the byte size of each element of the array"
   ]
  },
  {
   "cell_type": "markdown",
   "id": "1e19122d",
   "metadata": {},
   "source": [
    "30. 6"
   ]
  },
  {
   "cell_type": "markdown",
   "id": "201201cf",
   "metadata": {},
   "source": [
    "31. array([1, 2, 3, 4, 5])"
   ]
  },
  {
   "cell_type": "markdown",
   "id": "9a886cac",
   "metadata": {},
   "source": [
    "32. a = np.array([(1, 2, 3), (4, 5, 6)]); a.reshape(2, 4)"
   ]
  },
  {
   "cell_type": "markdown",
   "id": "e9e07acc",
   "metadata": {},
   "source": [
    "33. float64"
   ]
  },
  {
   "cell_type": "markdown",
   "id": "8ac90c7d",
   "metadata": {},
   "source": [
    "34. none of the above; all options are true"
   ]
  },
  {
   "cell_type": "markdown",
   "id": "11b48c5b",
   "metadata": {},
   "source": [
    "35. array([1, 2, 3, 4, 5, 6])"
   ]
  },
  {
   "cell_type": "markdown",
   "id": "214ef973",
   "metadata": {},
   "source": [
    "36. arr = np.array([[1, 2, 3], [4, 5, 6]]); np.hstack((arr, arr))"
   ]
  },
  {
   "cell_type": "markdown",
   "id": "31e6b91b",
   "metadata": {},
   "source": [
    "37. full()"
   ]
  },
  {
   "cell_type": "markdown",
   "id": "c28f0931",
   "metadata": {},
   "source": [
    "38. a1 = np.array([1, 2, 3]); a2 = np.array([0, 4, 9]); a1.sum(a2)"
   ]
  },
  {
   "cell_type": "markdown",
   "id": "f4144d8d",
   "metadata": {},
   "source": [
    "39. Transpose(A)"
   ]
  },
  {
   "cell_type": "markdown",
   "id": "e70536eb",
   "metadata": {},
   "source": [
    "40. 108"
   ]
  },
  {
   "cell_type": "markdown",
   "id": "12a612ed",
   "metadata": {},
   "source": [
    "41. number of items"
   ]
  },
  {
   "cell_type": "markdown",
   "id": "88c9c776",
   "metadata": {},
   "source": [
    "42. 8"
   ]
  },
  {
   "cell_type": "markdown",
   "id": "42ce7a93",
   "metadata": {},
   "source": [
    "43. reshape()"
   ]
  },
  {
   "cell_type": "markdown",
   "id": "4d4d9a85",
   "metadata": {},
   "source": [
    "44.  To create a matrix with all elements as 0"
   ]
  },
  {
   "cell_type": "markdown",
   "id": "a89859ad",
   "metadata": {},
   "source": [
    "45. [[[1]], [[2]], [[3]], [[4]]]"
   ]
  },
  {
   "cell_type": "markdown",
   "id": "b139332e",
   "metadata": {},
   "source": [
    "46. All of the mentioned above"
   ]
  },
  {
   "cell_type": "markdown",
   "id": "d130a2f7",
   "metadata": {},
   "source": [
    "47. array([[0, 2], [1, 3]])"
   ]
  },
  {
   "cell_type": "markdown",
   "id": "13522be7",
   "metadata": {},
   "source": [
    "48. [[[10]]\n",
    " [[20]]\n",
    " [[30]]\n",
    " [[40]]]"
   ]
  },
  {
   "cell_type": "markdown",
   "id": "9a3f424f",
   "metadata": {},
   "source": [
    "49. ndarray"
   ]
  },
  {
   "cell_type": "markdown",
   "id": "38b1992c",
   "metadata": {},
   "source": [
    "50.  Negative one"
   ]
  },
  {
   "cell_type": "code",
   "execution_count": null,
   "id": "b92499fa",
   "metadata": {},
   "outputs": [],
   "source": []
  }
 ],
 "metadata": {
  "kernelspec": {
   "display_name": "Python 3 (ipykernel)",
   "language": "python",
   "name": "python3"
  },
  "language_info": {
   "codemirror_mode": {
    "name": "ipython",
    "version": 3
   },
   "file_extension": ".py",
   "mimetype": "text/x-python",
   "name": "python",
   "nbconvert_exporter": "python",
   "pygments_lexer": "ipython3",
   "version": "3.9.13"
  }
 },
 "nbformat": 4,
 "nbformat_minor": 5
}
